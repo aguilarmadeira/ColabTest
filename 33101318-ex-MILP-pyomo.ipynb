{
  "nbformat": 4,
  "nbformat_minor": 0,
  "metadata": {
    "colab": {
      "provenance": [],
      "authorship_tag": "ABX9TyPAv8WukmA/bcMMwKRTzYnM",
      "include_colab_link": true
    },
    "kernelspec": {
      "name": "python3",
      "display_name": "Python 3"
    },
    "language_info": {
      "name": "python"
    }
  },
  "cells": [
    {
      "cell_type": "markdown",
      "metadata": {
        "id": "view-in-github",
        "colab_type": "text"
      },
      "source": [
        "<a href=\"https://colab.research.google.com/github/aguilarmadeira/ColabTest/blob/main/33101318-ex-MILP-pyomo.ipynb\" target=\"_parent\"><img src=\"https://colab.research.google.com/assets/colab-badge.svg\" alt=\"Open In Colab\"/></a>"
      ]
    },
    {
      "cell_type": "markdown",
      "source": [
        "**Teste 1**"
      ],
      "metadata": {
        "id": "gDC719xdw53v"
      }
    },
    {
      "cell_type": "code",
      "execution_count": null,
      "metadata": {
        "id": "blxU613Bw2Dg"
      },
      "outputs": [],
      "source": [
        "import numpy as np"
      ]
    },
    {
      "cell_type": "markdown",
      "source": [
        "segundo texto"
      ],
      "metadata": {
        "id": "O3XZTzNc2yt4"
      }
    },
    {
      "cell_type": "code",
      "source": [],
      "metadata": {
        "id": "EoST_ddb22XA"
      },
      "execution_count": null,
      "outputs": []
    },
    {
      "cell_type": "markdown",
      "source": [
        "terceiro texto"
      ],
      "metadata": {
        "id": "0oyZtedK5bTp"
      }
    },
    {
      "cell_type": "code",
      "source": [],
      "metadata": {
        "id": "qS1I3jgM5gAO"
      },
      "execution_count": null,
      "outputs": []
    }
  ]
}